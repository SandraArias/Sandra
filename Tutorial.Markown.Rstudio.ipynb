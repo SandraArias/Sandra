{
 "cells": [
  {
   "cell_type": "markdown",
   "metadata": {},
   "source": [
    "Tutorial de Markdown en RStudio\n",
    "==\n",
    "<hr style=\"height:3px\">\n",
    "<br>\n",
    "\n",
    "En el siguiente documento se explica el paso a paso de cómo realizar documentos en Markdown desde RStudio.\n",
    "<br>\n",
    "De esta manera, los pasos que se deben seguir son los siguientes:\n",
    "\n",
    "\n",
    "* Abrir RStudio\n",
    "* Debe salir la imágen que se muestra a continuación:\n",
    "<br>\n",
    "<br>\n",
    "\n",
    "![alt text](RStudioPpal.png)\n",
    "\n",
    "<br>\n",
    "\n",
    "* Una vez se tenga abierto el programa y la imágen ya descrita anteriormente se da click en **\"File\"**, **\"New file\"**,**\"R Markdown\"**, \n",
    "tal y como se muestra a continuación:\n",
    "\n",
    "<br>\n",
    "<br>\n",
    "\n",
    "![alt text](Selección.png)\n",
    "\n",
    "<br>\n",
    "\n",
    "* Debe aparecer un recuadro donde se pueda poner el nombre del documento, nombre del autor que lo realiza y el formato en el que se desea \n",
    "guardar; para este caso <mark> \"PDF\" </mark> tal y como se muestra en la imágen siguiente:\n",
    "\n",
    "<br>\n",
    "<br>\n",
    "\n",
    "![alt text](Parametros.png)\n",
    "\n",
    "\n",
    "\n",
    "\n",
    "\n"
   ]
  },
  {
   "cell_type": "code",
   "execution_count": null,
   "metadata": {
    "collapsed": true
   },
   "outputs": [],
   "source": []
  }
 ],
 "metadata": {
  "kernelspec": {
   "display_name": "R",
   "language": "R",
   "name": "ir"
  },
  "language_info": {
   "codemirror_mode": "r",
   "file_extension": ".r",
   "mimetype": "text/x-r-source",
   "name": "R",
   "pygments_lexer": "r",
   "version": "3.2.2"
  }
 },
 "nbformat": 4,
 "nbformat_minor": 0
}
